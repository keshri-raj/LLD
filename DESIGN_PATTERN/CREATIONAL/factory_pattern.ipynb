{
 "cells": [
  {
   "cell_type": "code",
   "execution_count": 6,
   "id": "53079357-78d8-4aad-b0da-e42e4a8a3f74",
   "metadata": {},
   "outputs": [
    {
     "name": "stdout",
     "output_type": "stream",
     "text": [
      "SUV has 1000\n"
     ]
    }
   ],
   "source": [
    "#factory design pattern\n",
    "# You dont not to create the object directly rather delegate the work to the factory class\n",
    "\n",
    "\n",
    "class ICar:\n",
    "    \n",
    "    def move(self):\n",
    "        pass\n",
    "    \n",
    "    def start(self):\n",
    "        pass\n",
    "    \n",
    "    def stop(self):\n",
    "        pass\n",
    "\n",
    "    \n",
    "\n",
    "class Sedan(ICar):\n",
    "    \n",
    "    def __init__(self,engine_cap):\n",
    "        self.engine_cap = engine_cap\n",
    "        self.model = \"Sedan\"\n",
    "        \n",
    "    def start(self):\n",
    "        print(\"Start the Sedan\")\n",
    "    \n",
    "    def stop(self):\n",
    "        print(\"Stop the Sedan\")\n",
    "        \n",
    "    def move(self):\n",
    "        print(\"It can accelerate to 60 kmph in 6sec \")\n",
    "    \n",
    "    def __repr__(self):\n",
    "        return f\"Sedan has {self.engine_cap}\"\n",
    "\n",
    "class SUV(ICar):\n",
    "    \n",
    "    def __init__(self,engine_cap):\n",
    "        self.engine_cap  = engine_cap\n",
    "        self.model = \"SUV\"\n",
    "    \n",
    "    def start(self):\n",
    "        print(\"Start the SUV\")\n",
    "    \n",
    "    def stop(self):\n",
    "        print(\"Stop the SUV\")\n",
    "    \n",
    "    def move(self):\n",
    "        print(\"It can accelerate to 90 kmph in 6 sec\")\n",
    "    \n",
    "    def __repr__(self):\n",
    "        return f\"SUV has {self.engine_cap}\"\n",
    "    \n",
    "class car_factory:\n",
    "    \n",
    "    def __init__(self,brand_name):\n",
    "        self.brand_name = brand_name\n",
    "        \n",
    "    def create_car(self,car_type):\n",
    "        if (car_type == \"SUV\"):\n",
    "            return SUV(1000)\n",
    "        elif (car_type == \"Sedan\"):\n",
    "            return Sedan(1000)\n",
    "        else:\n",
    "            return None\n",
    "    \n",
    "\n",
    "if __name__ == \"__main__\":\n",
    "    Maruti_Suzuki = car_factory(\"Maruti Suzuki\")\n",
    "    ms_suv = Maruti_Suzuki.create_car(\"SUV\")\n",
    "    ms_sedan = Maruti_Suzuki.create_car(\"Sedan\")\n",
    "    print(ms_suv)"
   ]
  }
 ],
 "metadata": {
  "kernelspec": {
   "display_name": "Python 3 (ipykernel)",
   "language": "python",
   "name": "python3"
  },
  "language_info": {
   "codemirror_mode": {
    "name": "ipython",
    "version": 3
   },
   "file_extension": ".py",
   "mimetype": "text/x-python",
   "name": "python",
   "nbconvert_exporter": "python",
   "pygments_lexer": "ipython3",
   "version": "3.12.7"
  }
 },
 "nbformat": 4,
 "nbformat_minor": 5
}
